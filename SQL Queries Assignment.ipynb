{
 "cells": [
  {
   "cell_type": "markdown",
   "metadata": {},
   "source": [
    "# SQL Queries Assignment"
   ]
  },
  {
   "cell_type": "markdown",
   "metadata": {},
   "source": [
    "Link to assignment document...\n",
    "https://docs.google.com/document/d/1BQJTwEZtaTSCl6a8pCJV4aFx2sbzJaJJ-5b62mnSlpY/edit"
   ]
  },
  {
   "cell_type": "markdown",
   "metadata": {},
   "source": [
    "## QUESTION 1: \n",
    "### Get the player names, player hometowns, school names, player positions, and school conferences for all players with position ‘QB’ or ‘WR’\n",
    "\n",
    "```SELECT player_name, hometown, full_school_name, position, teams.conference\n",
    "FROM benn.college_football_players players\n",
    "JOIN benn.college_football_teams teams\n",
    "ON players.full_school_name = teams.school_name\n",
    "WHERE players.position = 'QB' OR players.position = 'WR'\n",
    "ORDER BY players.player_name ASC```"
   ]
  },
  {
   "cell_type": "markdown",
   "metadata": {},
   "source": [
    "## QUESTION 2: \n",
    "### Create a table that displays the average height of players at each position. Height of players that do not have a 0 for height grouped by position\n",
    "\n",
    "```SELECT AVG(height), position FROM benn.college_football_players \n",
    "WHERE height != 0\n",
    "GROUP BY position\n",
    "ORDER BY AVG(height) DESC```"
   ]
  },
  {
   "cell_type": "markdown",
   "metadata": {},
   "source": [
    "## QUESTION 3: \n",
    "### Write a query that find the top 5 tallest players, as well as their position, height, school, and the conference they belong to.\n",
    "\n",
    "```SELECT player_name, position, height, school_name FROM benn.college_football_players \n",
    "ORDER BY height DESC\n",
    "LIMIT 5```"
   ]
  },
  {
   "cell_type": "markdown",
   "metadata": {},
   "source": [
    "## QUESTION 4: \n",
    "### Find the regions with the highest average company funding\n",
    "\n",
    "```SELECT * \n",
    "FROM (\n",
    "SELECT AVG(funding_total_usd) AS avg_funding, region, COUNT(region) as region_count\n",
    "FROM tutorial.crunchbase_companies_clean_date \n",
    "WHERE region != 'unknown' AND funding_total_usd > 0\n",
    "GROUP BY region\n",
    "ORDER BY avg_funding DESC\n",
    ") as subquery\n",
    "WHERE region_count > 10```"
   ]
  },
  {
   "cell_type": "code",
   "execution_count": null,
   "metadata": {
    "collapsed": true
   },
   "outputs": [],
   "source": []
  }
 ],
 "metadata": {
  "kernelspec": {
   "display_name": "Python 3",
   "language": "python",
   "name": "python3"
  },
  "language_info": {
   "codemirror_mode": {
    "name": "ipython",
    "version": 3
   },
   "file_extension": ".py",
   "mimetype": "text/x-python",
   "name": "python",
   "nbconvert_exporter": "python",
   "pygments_lexer": "ipython3",
   "version": "3.6.3"
  }
 },
 "nbformat": 4,
 "nbformat_minor": 2
}
